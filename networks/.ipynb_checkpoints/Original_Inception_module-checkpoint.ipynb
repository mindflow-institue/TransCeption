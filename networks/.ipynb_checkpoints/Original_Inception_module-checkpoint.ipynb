{
 "cells": [
  {
   "cell_type": "code",
   "execution_count": 13,
   "id": "5a0392e9",
   "metadata": {},
   "outputs": [],
   "source": [
    "# https://blog.csdn.net/qq_40211493/article/details/106790238 \n",
    "# https://blog.csdn.net/qq_37280534/article/details/115374551?spm=1001.2101.3001.6661.1&utm_medium=distribute.pc_relevant_t0.none-task-blog-2%7Edefault%7EBlogCommendFromBaidu%7ERate-1-115374551-blog-106790238.pc_relevant_3mothn_strategy_recovery&depth_1-utm_source=distribute.pc_relevant_t0.none-task-blog-2%7Edefault%7EBlogCommendFromBaidu%7ERate-1-115374551-blog-106790238.pc_relevant_3mothn_strategy_recovery&utm_relevant_index=1"
   ]
  },
  {
   "cell_type": "code",
   "execution_count": 14,
   "id": "3b189db2",
   "metadata": {},
   "outputs": [],
   "source": [
    "import torch\n",
    "import torch.nn as nn\n",
    "from torch.utils.data import DataLoader\n",
    "from torchvision import transforms\n",
    "from torchvision import datasets\n",
    "import torch.nn.functional as F"
   ]
  },
  {
   "cell_type": "code",
   "execution_count": 16,
   "id": "f7699abb",
   "metadata": {},
   "outputs": [],
   "source": [
    "class InceptionA(nn.Module):\n",
    "    def __init__(self, in_channels):\n",
    "        super(InceptionA, self).__init__()\n",
    "        self.branch1_1 = nn.Conv2d(in_channels, 16, kernel_size=1)\n",
    "        \n",
    "        self.branch5_5_1 = nn.Conv2d(in_channels, 16, kernel_size=1)\n",
    "        self.branch5_5_2 = nn.Conv2d(16, 24, kernel_size=5,padding=2)\n",
    "        \n",
    "        self.branch3_3_1 = nn.Conv2d(in_channels, 16, kernel_size=1)\n",
    "        self.branch3_3_2 = nn.Conv2d(16, 24, kernel_size=3, padding =1)\n",
    "        self.branch3_3_3 = nn.Conv2d(24, 24, kernel_size=3, padding=1)\n",
    "        \n",
    "        self.branch_pool = nn.Conv2d(in_channels, 24, kernel_size = 1)\n",
    "    def forward(self, x):\n",
    "        out_branch1_1 = self.branch1_1(x)\n",
    "        print('\\n out_branch1_1: {}'.format(out_branch1_1.shape))\n",
    "        out_branch5_5 = self.branch5_5_1(x)\n",
    "        out_branch5_5 = self.branch5_5_2(out_branch5_5)\n",
    "        print('\\n out_branch5_5: {}'.format(out_branch5_5.shape))\n",
    "        out_branch3_3 = self.branch3_3_1(x)\n",
    "        out_branch3_3 = self.branch3_3_2(out_branch3_3)\n",
    "        out_branch3_3 = self.branch3_3_3(out_branch3_3)\n",
    "        print('\\n out_branch3_3: {}'.format(out_branch3_3.shape))\n",
    "        branch_pool = F.avg_pool2d(x, kernel_size=3, stride=1, padding=1)\n",
    "        branch_pool = self.branch_pool(branch_pool)\n",
    "        print('\\n branch_pool: {}'.format(branch_pool.shape))\n",
    "        outputs = [out_branch1_1, out_branch5_5, out_branch3_3, branch_pool]\n",
    "        return torch.cat(outputs, dim=1)\n",
    "    "
   ]
  },
  {
   "cell_type": "code",
   "execution_count": 17,
   "id": "ee440c26",
   "metadata": {},
   "outputs": [],
   "source": [
    "input_size = 644\n",
    "inputs = torch.rand(1,3,input_size,input_size)\n"
   ]
  },
  {
   "cell_type": "code",
   "execution_count": 19,
   "id": "4d9ab9de",
   "metadata": {},
   "outputs": [
    {
     "name": "stdout",
     "output_type": "stream",
     "text": [
      "\n",
      " out_branch1_1: torch.Size([1, 16, 644, 644])\n",
      "\n",
      " out_branch5_5: torch.Size([1, 24, 644, 644])\n",
      "\n",
      " out_branch3_3: torch.Size([1, 24, 644, 644])\n",
      "\n",
      " branch_pool: torch.Size([1, 24, 644, 644])\n",
      "\n",
      " incept_out: torch.Size([1, 88, 644, 644])\n"
     ]
    }
   ],
   "source": [
    "incept = InceptionA(3)\n",
    "incept_out = incept(inputs)\n",
    "print('\\n incept_out: {}'.format(incept_out.shape))"
   ]
  },
  {
   "cell_type": "markdown",
   "id": "2e72b76b",
   "metadata": {},
   "source": [
    "# MultiResUnet inception"
   ]
  },
  {
   "cell_type": "code",
   "execution_count": 20,
   "id": "64542da0",
   "metadata": {},
   "outputs": [],
   "source": [
    "#https://github.com/Cassieyy/MultiResUnet3D/blob/main/MultiResUnet3D.py\n",
    "\n",
    "class conv_block(nn.Module):\n",
    "    def __init__(self, ch_in, ch_out, kernel_size=3, stride=1, padding=1, act='relu'):\n",
    "        # print(ch_out)\n",
    "        super(conv_block,self).__init__()\n",
    "        if act == None:\n",
    "            self.conv = nn.Sequential(\n",
    "                nn.Conv2d(ch_in, ch_out, kernel_size=kernel_size,stride=stride,padding=padding),\n",
    "                nn.BatchNorm2d(ch_out)\n",
    "            )\n",
    "        elif act == 'relu':\n",
    "            self.conv = nn.Sequential(\n",
    "                nn.Conv2d(ch_in, ch_out, kernel_size=kernel_size,stride=stride,padding=padding),\n",
    "                nn.BatchNorm2d(ch_out),\n",
    "                nn.ReLU(inplace=True)\n",
    "            )\n",
    "        elif act == 'sigmoid':\n",
    "            self.conv = nn.Sequential(\n",
    "                nn.Conv2d(ch_in, ch_out, kernel_size=kernel_size,stride=stride,padding=padding),\n",
    "                nn.BatchNorm2d(ch_out),\n",
    "                nn.Sigmoid()\n",
    "            )\n",
    "\n",
    "    def forward(self,x):\n",
    "        x = self.conv(x)\n",
    "        return x\n",
    "    \n",
    "\n",
    "\n",
    "class res_block(nn.Module):\n",
    "    def __init__(self,ch_in,ch_out):\n",
    "        super(res_block,self).__init__()\n",
    "        self.res = conv_block(ch_in,ch_out,1,1,0,None)\n",
    "        self.main = conv_block(ch_in,ch_out)\n",
    "        self.bn = nn.BatchNorm2d(ch_in)\n",
    "    def forward(self,x):\n",
    "        res_x = self.res(x)\n",
    "\n",
    "        main_x = self.main(x)\n",
    "        out = res_x.add(main_x)\n",
    "        out = nn.ReLU(inplace=True)(out)\n",
    "        # print(out.shape[1], type(out.shape[1]))\n",
    "        # assert 1>3\n",
    "        out = self.bn(out)\n",
    "        return out\n",
    "    \n",
    "\n",
    "\n",
    "class MultiResBlock(nn.Module):\n",
    "    def __init__(self,in_ch,U,branch=1, alpha=1.67):\n",
    "        super(MultiResBlock,self).__init__()\n",
    "#         self.W = alpha * U\n",
    "        self.W = U\n",
    "        self.one_ch = conv_block(in_ch, 1)\n",
    "#         self.residual_layer = conv_block(1, self.W, 1, 1, 0, act=None)\n",
    "        self.residual_layer = conv_block(1, self.W)\n",
    "#         self.conv3x3 = conv_block(1, int(self.W*0.167))\n",
    "#         self.conv5x5 = conv_block(int(self.W*0.167), int(self.W*0.333))\n",
    "#         self.conv7x7 = conv_block(int(self.W*0.333), self.W-int(self.W*0.167)-int(self.W*0.333))\n",
    "        self.conv3x3 = conv_block(1, int(self.W))\n",
    "        self.conv5x5 = conv_block(int(self.W), int(self.W))\n",
    "        self.conv7x7 = conv_block(int(self.W), self.W)\n",
    "        self.maxpool = nn.MaxPool2d(2, stride=2)\n",
    "        self.relu = nn.ReLU(inplace=True)\n",
    "#         self.batchnorm_1 = nn.BatchNorm2d(int(self.W*0.167)+int(self.W*0.333)+int(self.W*0.5))\n",
    "#         self.batchnorm_2 = nn.BatchNorm2d(int(self.W*0.167)+int(self.W*0.333)+int(self.W*0.5))\n",
    "        self.batchnorm_1 = nn.BatchNorm2d(self.W)\n",
    "        self.batchnorm_2 = nn.BatchNorm2d(self.W)\n",
    "        \n",
    "    def forward(self, x):\n",
    "        out = []\n",
    "        print(x.shape) # 1 51 128 128\n",
    "        print(\"\\n W=alpha*U :{}\\n\".format(self.W))\n",
    "        x = self.one_ch(x) \n",
    "        res = self.residual_layer(x)\n",
    "        out.append(res)\n",
    "        print(\"\\n res:{}\\n\".format(res.shape))\n",
    "        \n",
    "        sbs = self.conv3x3(x)\n",
    "        sbs_out = self.maxpool(sbs)\n",
    "        print(\"\\n out_3*3:{}\\n\".format(sbs.shape))\n",
    "        out.append(sbs_out)\n",
    "        \n",
    "        obo = self.conv5x5(sbs)\n",
    "        obo_out = self.maxpool(obo)\n",
    "        out.append(obo_out)\n",
    "        print(\"\\n out_5*5:{}\\n\".format(obo.shape))\n",
    "        \n",
    "        cbc = self.conv7x7(obo)\n",
    "        cbc_out = self.maxpool(cbc)\n",
    "        print(\"\\n out_7*7:{}\\n\".format(cbc.shape))\n",
    "        out.append(cbc_out)\n",
    "#         all_t = torch.cat((sbs, obo, cbc), 1)\n",
    "#         print(\"\\n cat_together:{}\\n\".format(all_t.shape))\n",
    "#         all_t_b = self.batchnorm_1(all_t)\n",
    "#         out = all_t_b.add(res)\n",
    "#         out = self.relu(out)\n",
    "#         out = self.batchnorm_2(out)\n",
    "        \n",
    "        \n",
    "        \n",
    "        return out"
   ]
  },
  {
   "cell_type": "code",
   "execution_count": 21,
   "id": "5af5a399",
   "metadata": {},
   "outputs": [
    {
     "name": "stdout",
     "output_type": "stream",
     "text": [
      "\n",
      "\n",
      "----branch 2: res_inception------\n",
      "torch.Size([1, 64, 7, 7])\n"
     ]
    }
   ],
   "source": [
    "print(\"\\n\\n----branch 2: res_inception------\")\n",
    "in_ch = 64\n",
    "out_ch= 128\n",
    "inputs = torch.randn(1,in_ch , 7,7 ) # BCHW \n",
    "print(inputs.shape)"
   ]
  },
  {
   "cell_type": "code",
   "execution_count": 22,
   "id": "dbb47f4d",
   "metadata": {},
   "outputs": [
    {
     "name": "stdout",
     "output_type": "stream",
     "text": [
      "torch.Size([1, 64, 7, 7])\n",
      "\n",
      " W=alpha*U :128\n",
      "\n",
      "\n",
      " res:torch.Size([1, 128, 7, 7])\n",
      "\n",
      "\n",
      " out_3*3:torch.Size([1, 128, 7, 7])\n",
      "\n",
      "\n",
      " out_5*5:torch.Size([1, 128, 7, 7])\n",
      "\n",
      "\n",
      " out_7*7:torch.Size([1, 128, 7, 7])\n",
      "\n",
      "4\n"
     ]
    }
   ],
   "source": [
    "model = MultiResBlock(in_ch,128)\n",
    "outputs = model(inputs)\n",
    "print(len(outputs))"
   ]
  },
  {
   "cell_type": "code",
   "execution_count": null,
   "id": "4a44c5c4",
   "metadata": {},
   "outputs": [],
   "source": []
  }
 ],
 "metadata": {
  "kernelspec": {
   "display_name": "Python 3",
   "language": "python",
   "name": "python3"
  },
  "language_info": {
   "codemirror_mode": {
    "name": "ipython",
    "version": 3
   },
   "file_extension": ".py",
   "mimetype": "text/x-python",
   "name": "python",
   "nbconvert_exporter": "python",
   "pygments_lexer": "ipython3",
   "version": "3.6.13"
  }
 },
 "nbformat": 4,
 "nbformat_minor": 5
}
